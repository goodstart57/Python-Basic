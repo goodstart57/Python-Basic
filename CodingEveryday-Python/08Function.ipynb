{
 "cells": [
  {
   "cell_type": "markdown",
   "metadata": {},
   "source": [
    "# Function\n",
    "\n",
    "반복문 등 원하는 동작을 재사용 하도록 함수라는 것을 만들 수 있다.\n",
    "이전에 배웠던 것들을 작은 프로그램으로 만들어서 작은 부품으로써 사용할 수 있다."
   ]
  },
  {
   "cell_type": "code",
   "execution_count": 2,
   "metadata": {},
   "outputs": [
    {
     "name": "stdout",
     "output_type": "stream",
     "text": [
      "aaa\n"
     ]
    }
   ],
   "source": [
    "##함수 만들기(make function)\n",
    "def a3():\n",
    "    print('aaa')\n",
    "a3()"
   ]
  },
  {
   "cell_type": "code",
   "execution_count": 3,
   "metadata": {},
   "outputs": [
    {
     "name": "stdout",
     "output_type": "stream",
     "text": [
      "aaa\n"
     ]
    }
   ],
   "source": [
    "##리턴(return)\n",
    "def a3():\n",
    "    return 'aaa'\n",
    "print(a3())"
   ]
  },
  {
   "cell_type": "code",
   "execution_count": 4,
   "metadata": {},
   "outputs": [
    {
     "name": "stdout",
     "output_type": "stream",
     "text": [
      "aaa\n",
      "aaaaa\n"
     ]
    }
   ],
   "source": [
    "##입력값을 받는 함수\n",
    "def a(num):\n",
    "    return 'a'*num\n",
    "print(a(3))\n",
    "print(a(5))"
   ]
  },
  {
   "cell_type": "code",
   "execution_count": 5,
   "metadata": {},
   "outputs": [
    {
     "name": "stdout",
     "output_type": "stream",
     "text": [
      "bbb\n"
     ]
    }
   ],
   "source": [
    "##여러값을 입력받는 함수\n",
    "def make_string(str, num):\n",
    "    return str*num\n",
    "print(make_string('b', 3))"
   ]
  },
  {
   "cell_type": "code",
   "execution_count": 8,
   "metadata": {},
   "outputs": [
    {
     "name": "stdout",
     "output_type": "stream",
     "text": [
      "아이디를 입력해주세요.\n",
      "k8805\n",
      "Hello, k8805\n"
     ]
    }
   ],
   "source": [
    "##로그인 애플리케이션\n",
    "input_id = input(\"아이디를 입력해주세요.\\n\")\n",
    "def login(_id):\n",
    "    members = ['egoing', 'k8805', 'leezche']\n",
    "    for member in members:\n",
    "        if member == _id:\n",
    "            return True\n",
    "    return False\n",
    "if login(input_id):\n",
    "    print('Hello, '+input_id)\n",
    "else:\n",
    "    print('Who are you?')"
   ]
  },
  {
   "cell_type": "code",
   "execution_count": null,
   "metadata": {
    "collapsed": true
   },
   "outputs": [],
   "source": []
  }
 ],
 "metadata": {
  "kernelspec": {
   "display_name": "Python 3",
   "language": "python",
   "name": "python3"
  },
  "language_info": {
   "codemirror_mode": {
    "name": "ipython",
    "version": 3
   },
   "file_extension": ".py",
   "mimetype": "text/x-python",
   "name": "python",
   "nbconvert_exporter": "python",
   "pygments_lexer": "ipython3",
   "version": "3.6.3"
  }
 },
 "nbformat": 4,
 "nbformat_minor": 2
}
