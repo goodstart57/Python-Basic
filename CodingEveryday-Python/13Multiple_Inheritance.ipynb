{
 "cells": [
  {
   "cell_type": "markdown",
   "metadata": {},
   "source": [
    "# 다중 상속(Multiple Inheritance)\n",
    "\n",
    "여러 부모 클래스의 메소드를 사용 할 수 있다."
   ]
  },
  {
   "cell_type": "code",
   "execution_count": 2,
   "metadata": {},
   "outputs": [
    {
     "name": "stdout",
     "output_type": "stream",
     "text": [
      "c1_m\n",
      "c2_m\n"
     ]
    }
   ],
   "source": [
    "class C1():\n",
    "    def c1_m(self):\n",
    "        print(\"c1_m\")\n",
    "        \n",
    "class C2():\n",
    "    def c2_m(self):\n",
    "        print(\"c2_m\")\n",
    "        \n",
    "class C3(C1, C2):\n",
    "    pass\n",
    "\n",
    "c = C3()\n",
    "c.c1_m()\n",
    "c.c2_m()"
   ]
  },
  {
   "cell_type": "markdown",
   "metadata": {},
   "source": [
    "제한된 상황에서 다중상속을 사용하는 것이 도움이 되지만 프로그램이 복잡해 진다면 문제가 생길 수 있다.\n",
    "\n",
    "### 다중상속의 문제점\n",
    "\n",
    "1. 두 부모 클래스의 메소드의 이름이 같다면?\n",
    "\n",
    "=> 오른쪽 인자부터 읽혀지기 때문에 가장 왼쪽에 있는 C1 클래스의 메소드가 재정의(override) 된다"
   ]
  },
  {
   "cell_type": "code",
   "execution_count": 5,
   "metadata": {},
   "outputs": [
    {
     "name": "stdout",
     "output_type": "stream",
     "text": [
      "c1_m\n",
      "c2_m\n",
      "C1 m\n"
     ]
    }
   ],
   "source": [
    "class C1():\n",
    "    def c1_m(self):\n",
    "        print(\"c1_m\")\n",
    "    def m(self):\n",
    "        print(\"C1 m\")\n",
    "        \n",
    "class C2():\n",
    "    def c2_m(self):\n",
    "        print(\"c2_m\")\n",
    "    def m(self):\n",
    "        print(\"C2 m\")\n",
    "        \n",
    "class C3(C1, C2):\n",
    "    pass\n",
    "\n",
    "c = C3()\n",
    "c.c1_m()\n",
    "c.c2_m()\n",
    "c.m()"
   ]
  },
  {
   "cell_type": "markdown",
   "metadata": {},
   "source": [
    "### 다중상속의 활용"
   ]
  },
  {
   "cell_type": "code",
   "execution_count": 9,
   "metadata": {},
   "outputs": [
    {
     "name": "stdout",
     "output_type": "stream",
     "text": [
      "110\n",
      "1000\n",
      "10.0\n"
     ]
    }
   ],
   "source": [
    "class CalMultiply(object):\n",
    "    def multiply(self):\n",
    "        result = self.v1*self.v2\n",
    "        Cal._history.append(\"multiply : %d*%d=%d\" % (self.v1, self.v2, result))\n",
    "        return result\n",
    "\n",
    "class CalDivide(object):\n",
    "    def divide(self):\n",
    "        if self.v2==0:\n",
    "            print(\"numerator is 0\")\n",
    "            return\n",
    "        result = self.v1/self.v2\n",
    "        Cal._history.append(\"divide : %d/%d=%d\"% (self.v1, self.v2, result))\n",
    "        return result\n",
    "\n",
    "class Cal(CalMultiply, CalDivide):\n",
    "    _history = []\n",
    "    def __init__(self, v1, v2):\n",
    "        if isinstance(v1, int):\n",
    "            self.v1 = v1\n",
    "        if isinstance(v2, int):\n",
    "            self.v2 = v2\n",
    "    def add(self):\n",
    "        result = self.v1+self.v2\n",
    "        Cal._history.append(\"add : %d+%d=%d\" % (self.v1, self.v2, result))\n",
    "        return result\n",
    "    def subtract(self):\n",
    "        result = self.v1-self.v2\n",
    "        Cal._history.append(\"subtract : %d-%d=%d\" % (self.v1, self.v2, result))\n",
    "    def setV1(self, v):\n",
    "        if isinstance(v, int):\n",
    "            self.v1 = v\n",
    "    def getV1(self):\n",
    "        return self.v1\n",
    "    @classmethod\n",
    "    def history(cls):\n",
    "        for item in Cal._history:\n",
    "            print(item)\n",
    "    def info(self):\n",
    "        return \"Cal => v1 : %d, v2 : %d\" % (self.v1, self.v2)\n",
    "       \n",
    "c = Cal(100,10)\n",
    "print(c.add())\n",
    "print(c.multiply())\n",
    "print(c.divide())"
   ]
  },
  {
   "cell_type": "code",
   "execution_count": null,
   "metadata": {
    "collapsed": true
   },
   "outputs": [],
   "source": []
  }
 ],
 "metadata": {
  "kernelspec": {
   "display_name": "Python 3",
   "language": "python",
   "name": "python3"
  },
  "language_info": {
   "codemirror_mode": {
    "name": "ipython",
    "version": 3
   },
   "file_extension": ".py",
   "mimetype": "text/x-python",
   "name": "python",
   "nbconvert_exporter": "python",
   "pygments_lexer": "ipython3",
   "version": "3.6.3"
  }
 },
 "nbformat": 4,
 "nbformat_minor": 2
}
