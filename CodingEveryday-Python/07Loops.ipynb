{
 "cells": [
  {
   "cell_type": "markdown",
   "metadata": {},
   "source": [
    "# Loops\n",
    "for, while, do-while etc.. "
   ]
  },
  {
   "cell_type": "code",
   "execution_count": null,
   "metadata": {
    "collapsed": true
   },
   "outputs": [],
   "source": [
    "##반복문이 없다면\n",
    "print(\"Hello world 0\")\n",
    "print(\"Hello world 9\")\n",
    "print(\"Hello world 18\")\n",
    "print(\"Hello world 27\")\n",
    "print(\"Hello world 36\")\n",
    "print(\"Hello world 45\")\n",
    "print(\"Hello world 54\")\n",
    "print(\"Hello world 63\")\n",
    "print(\"Hello world 72\")\n",
    "print(\"Hello world 81\")"
   ]
  },
  {
   "cell_type": "code",
   "execution_count": 1,
   "metadata": {},
   "outputs": [
    {
     "name": "stdout",
     "output_type": "stream",
     "text": [
      "After while\n"
     ]
    }
   ],
   "source": [
    "## while-loop\n",
    "while False:\n",
    "    print('Hello world')\n",
    "print('After while')"
   ]
  },
  {
   "cell_type": "code",
   "execution_count": 2,
   "metadata": {},
   "outputs": [
    {
     "name": "stdout",
     "output_type": "stream",
     "text": [
      "Hello world\n",
      "Hello world\n",
      "Hello world\n"
     ]
    }
   ],
   "source": [
    "##반복조건을 이용한 whlie-loop\n",
    "i = 0\n",
    "while i < 3:\n",
    "    print('Hello world')\n",
    "    i = i + 1"
   ]
  },
  {
   "cell_type": "code",
   "execution_count": 3,
   "metadata": {},
   "outputs": [
    {
     "name": "stdout",
     "output_type": "stream",
     "text": [
      "print(\"Hello world 0\")\n",
      "print(\"Hello world 9\")\n",
      "print(\"Hello world 18\")\n",
      "print(\"Hello world 27\")\n",
      "print(\"Hello world 36\")\n",
      "print(\"Hello world 45\")\n",
      "print(\"Hello world 54\")\n",
      "print(\"Hello world 63\")\n",
      "print(\"Hello world 72\")\n",
      "print(\"Hello world 81\")\n"
     ]
    }
   ],
   "source": [
    "##반복조건을 이용한 while-loop 활용\n",
    "i = 0\n",
    "while i < 10:\n",
    "    print('print(\"Hello world '+str(i*9)+'\")')\n",
    "    i = i + 1"
   ]
  },
  {
   "cell_type": "code",
   "execution_count": 7,
   "metadata": {},
   "outputs": [
    {
     "name": "stdout",
     "output_type": "stream",
     "text": [
      "0\n",
      "1\n",
      "2\n",
      "3\n",
      "4\n",
      "4 in conditional statements\n"
     ]
    }
   ],
   "source": [
    "##조건문과 반복문\n",
    "i = 0\n",
    "while i < 5:\n",
    "    print(i)\n",
    "    if i == 4:\n",
    "        print(i, \"in conditional statements\")\n",
    "    i = i + 1"
   ]
  },
  {
   "cell_type": "markdown",
   "metadata": {},
   "source": [
    "# 컨테이너와 반복문의 만남"
   ]
  },
  {
   "cell_type": "code",
   "execution_count": 8,
   "metadata": {},
   "outputs": [
    {
     "name": "stdout",
     "output_type": "stream",
     "text": [
      "egoing\n",
      "leezche\n",
      "graphittie\n"
     ]
    }
   ],
   "source": [
    "##컨테이너와 while-loop(리스트의 길이 이용)\n",
    "members = ['egoing', 'leezche', 'graphittie']\n",
    "i = 0\n",
    "while i < len(members):\n",
    "    print(members[i])\n",
    "    i = i + 1"
   ]
  },
  {
   "cell_type": "code",
   "execution_count": 11,
   "metadata": {},
   "outputs": [
    {
     "name": "stdout",
     "output_type": "stream",
     "text": [
      "egoing\n",
      "leezche\n",
      "graphittie\n"
     ]
    }
   ],
   "source": [
    "##컨테이너와 for-loop\n",
    "members = ['egoing', 'leezche', 'graphittie']\n",
    "for member in members:\n",
    "    print(member)"
   ]
  },
  {
   "cell_type": "code",
   "execution_count": 12,
   "metadata": {},
   "outputs": [
    {
     "name": "stdout",
     "output_type": "stream",
     "text": [
      "5\n",
      "6\n",
      "7\n",
      "8\n",
      "9\n",
      "10\n"
     ]
    }
   ],
   "source": [
    "##range(,)이용\n",
    "for item in range(5, 11):\n",
    "    print(item)"
   ]
  },
  {
   "cell_type": "code",
   "execution_count": 14,
   "metadata": {},
   "outputs": [
    {
     "name": "stdout",
     "output_type": "stream",
     "text": [
      "아이디를 입력해주세요.\n",
      "k8805\n",
      "Hello!, k8805\n"
     ]
    },
    {
     "ename": "SystemExit",
     "evalue": "",
     "output_type": "error",
     "traceback": [
      "An exception has occurred, use %tb to see the full traceback.\n",
      "\u001b[1;31mSystemExit\u001b[0m\n"
     ]
    },
    {
     "name": "stderr",
     "output_type": "stream",
     "text": [
      "C:\\Users\\JaeSeo\\Anaconda3\\lib\\site-packages\\IPython\\core\\interactiveshell.py:2870: UserWarning: To exit: use 'exit', 'quit', or Ctrl-D.\n",
      "  warn(\"To exit: use 'exit', 'quit', or Ctrl-D.\", stacklevel=1)\n"
     ]
    }
   ],
   "source": [
    "##in 연산자를 이용하여 로그인 애플리케이션에 응용\n",
    "input_id = input(\"아이디를 입력해주세요.\\n\")\n",
    "members = ['egoing', 'k8805', 'leezche']\n",
    "for member in members:\n",
    "    if member == input_id:\n",
    "        print('Hello!, '+member)\n",
    "        import sys\n",
    "        sys.exit()\n",
    "print('Who are you?')"
   ]
  },
  {
   "cell_type": "code",
   "execution_count": null,
   "metadata": {
    "collapsed": true
   },
   "outputs": [],
   "source": []
  }
 ],
 "metadata": {
  "kernelspec": {
   "display_name": "Python 3",
   "language": "python",
   "name": "python3"
  },
  "language_info": {
   "codemirror_mode": {
    "name": "ipython",
    "version": 3
   },
   "file_extension": ".py",
   "mimetype": "text/x-python",
   "name": "python",
   "nbconvert_exporter": "python",
   "pygments_lexer": "ipython3",
   "version": "3.6.3"
  }
 },
 "nbformat": 4,
 "nbformat_minor": 2
}
