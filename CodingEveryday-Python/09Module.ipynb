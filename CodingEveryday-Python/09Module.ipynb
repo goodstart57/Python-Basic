{
 "cells": [
  {
   "cell_type": "markdown",
   "metadata": {},
   "source": [
    "# Module\n",
    "\n",
    "비슷한 기능을 가진 함수들의 디렉토리"
   ]
  },
  {
   "cell_type": "code",
   "execution_count": 2,
   "metadata": {},
   "outputs": [
    {
     "name": "stdout",
     "output_type": "stream",
     "text": [
      "3\n",
      "2\n",
      "4.0\n"
     ]
    }
   ],
   "source": [
    "##math 모듈\n",
    "import math\n",
    "print(math.ceil(2.9))\n",
    "print(math.floor(2.9))\n",
    "print(math.sqrt(16))"
   ]
  },
  {
   "cell_type": "code",
   "execution_count": 3,
   "metadata": {},
   "outputs": [
    {
     "data": {
      "text/plain": [
       "'B'"
      ]
     },
     "execution_count": 3,
     "metadata": {},
     "output_type": "execute_result"
    }
   ],
   "source": [
    "##모듈이 필요한 이유\n",
    "def a():\n",
    "    return 'a'\n",
    "#엄청 많은 코드\n",
    "def a():\n",
    "    return 'B'\n",
    "a() ##엄청 많은 코드에 의해 a가 아닌 B가 출력"
   ]
  },
  {
   "cell_type": "code",
   "execution_count": 11,
   "metadata": {},
   "outputs": [
    {
     "name": "stdout",
     "output_type": "stream",
     "text": [
      "'k8805'모듈에서 불러옴\n",
      "'egoing' 모듈에서 불러옴\n",
      "'egoing' 모듈에서 불러옴\n"
     ]
    }
   ],
   "source": [
    "from k8805 import a\n",
    "print(a())\n",
    "\n",
    "import egoing as givenname\n",
    "print(egoing.a())\n",
    "print(givenname.a())"
   ]
  },
  {
   "cell_type": "markdown",
   "metadata": {
    "collapsed": true
   },
   "source": [
    "### 모듈의 장점 : 중복 제거와 재활용성 증대\n",
    "\n",
    "특정 모듈의 함수를 사용하는 모든 코드의 수정을 한번에 할 수 있다."
   ]
  },
  {
   "cell_type": "code",
   "execution_count": 14,
   "metadata": {},
   "outputs": [
    {
     "name": "stdout",
     "output_type": "stream",
     "text": [
      "아이디를 입력해주세요k8805\n",
      "Hello, k8805\n"
     ]
    }
   ],
   "source": [
    "##로그인 애플리케이션에 모듈 적용\n",
    "import login\n",
    "input_id = input(\"아이디를 입력해주세요\")\n",
    "if login.login(input_id):\n",
    "    print(\"Hello, \"+input_id)\n",
    "else:\n",
    "    print(\"Who are you?\")"
   ]
  },
  {
   "cell_type": "code",
   "execution_count": 15,
   "metadata": {},
   "outputs": [
    {
     "name": "stdout",
     "output_type": "stream",
     "text": [
      "end\n"
     ]
    }
   ],
   "source": [
    "for i in range(10000):\n",
    "    pw=i\n",
    "print(\"end\")"
   ]
  },
  {
   "cell_type": "code",
   "execution_count": null,
   "metadata": {
    "collapsed": true
   },
   "outputs": [],
   "source": []
  }
 ],
 "metadata": {
  "kernelspec": {
   "display_name": "Python 3",
   "language": "python",
   "name": "python3"
  },
  "language_info": {
   "codemirror_mode": {
    "name": "ipython",
    "version": 3
   },
   "file_extension": ".py",
   "mimetype": "text/x-python",
   "name": "python",
   "nbconvert_exporter": "python",
   "pygments_lexer": "ipython3",
   "version": "3.6.3"
  }
 },
 "nbformat": 4,
 "nbformat_minor": 2
}
