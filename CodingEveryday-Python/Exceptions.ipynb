{
 "cells": [
  {
   "cell_type": "markdown",
   "metadata": {},
   "source": [
    "# 예외처리 (Exceptions)\n",
    "\n",
    "프로그램을 실행 중 특정 상황에 발생 할 수 있는 상황을 미리 생각해서 처리 할 수 있는 코드를 삽입하는 방법\n",
    "\n",
    "\n",
    "### 오류의 종류\n",
    "1. SyntaxError<br>잘못된 문법이나 표현\n",
    "    \n",
    "2. IndentationError<br>들여쓰기가 잘못된 경우\n",
    "\n",
    "3. ZeroDivisionError<br>0으로 다른 숫자를 나누려 하는 경우\n",
    "\n",
    "\n",
    "### 오류 예외처리하는 방법\n",
    "\n",
    "1. try ~ except<br>try문이 오류인 경우 except 내의 코드를 수행\n",
    "\n",
    "2. try ~ else<br>try문이 오류가 아닌 경우 else 내의 코드를 수행\n",
    "\n",
    "3. try ~ finally<br>try문의 오류 여부와 관계없이 finally 내의 코드를 수행"
   ]
  },
  {
   "cell_type": "code",
   "execution_count": 2,
   "metadata": {},
   "outputs": [
    {
     "name": "stdout",
     "output_type": "stream",
     "text": [
      "division by zero\n"
     ]
    }
   ],
   "source": [
    "##1. try ~ except\n",
    "try:\n",
    "    10/0\n",
    "except ZeroDivisionError as e:\n",
    "    print(e)"
   ]
  },
  {
   "cell_type": "code",
   "execution_count": 3,
   "metadata": {},
   "outputs": [
    {
     "name": "stdout",
     "output_type": "stream",
     "text": [
      "Success!\n"
     ]
    }
   ],
   "source": [
    "##2. try ~ else\n",
    "try:\n",
    "    10/2\n",
    "except ZeroDivisionError as e:\n",
    "    print(e)\n",
    "else:\n",
    "    print(\"Success!\")"
   ]
  },
  {
   "cell_type": "code",
   "execution_count": 4,
   "metadata": {
    "collapsed": true
   },
   "outputs": [],
   "source": [
    "##오류 회피하는 방법\n",
    "try:\n",
    "    10/0\n",
    "except ZeroDivisionError:\n",
    "    pass"
   ]
  },
  {
   "cell_type": "code",
   "execution_count": 5,
   "metadata": {},
   "outputs": [
    {
     "name": "stdout",
     "output_type": "stream",
     "text": [
      "NameError Occurred!\n"
     ]
    }
   ],
   "source": [
    "##오류 발생 시키는 방법\n",
    "try:\n",
    "    raise NameError\n",
    "except NameError:\n",
    "    print(\"NameError Occurred!\")"
   ]
  },
  {
   "cell_type": "code",
   "execution_count": null,
   "metadata": {
    "collapsed": true
   },
   "outputs": [],
   "source": []
  }
 ],
 "metadata": {
  "kernelspec": {
   "display_name": "Python 3",
   "language": "python",
   "name": "python3"
  },
  "language_info": {
   "codemirror_mode": {
    "name": "ipython",
    "version": 3
   },
   "file_extension": ".py",
   "mimetype": "text/x-python",
   "name": "python",
   "nbconvert_exporter": "python",
   "pygments_lexer": "ipython3",
   "version": "3.6.3"
  }
 },
 "nbformat": 4,
 "nbformat_minor": 2
}
