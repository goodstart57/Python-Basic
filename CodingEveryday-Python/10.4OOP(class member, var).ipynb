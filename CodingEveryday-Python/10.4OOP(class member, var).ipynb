{
 "cells": [
  {
   "cell_type": "markdown",
   "metadata": {},
   "source": [
    "### 클래스 멤버"
   ]
  },
  {
   "cell_type": "code",
   "execution_count": 9,
   "metadata": {},
   "outputs": [
    {
     "name": "stdout",
     "output_type": "stream",
     "text": [
      "2018\n",
      "2010\n"
     ]
    }
   ],
   "source": [
    "import datetime as dt\n",
    "d1 = dt.datetime(2018, 3, 1)\n",
    "d2 = dt.datetime(2010, 1, 1)\n",
    "print(d1.year)\n",
    "print(d2.year)"
   ]
  },
  {
   "cell_type": "markdown",
   "metadata": {},
   "source": [
    "위에서 d1.year과 d2.year를 보면 d1, d2이라는 각각 인스턴스의 year임을 알 수 있다."
   ]
  },
  {
   "cell_type": "code",
   "execution_count": 12,
   "metadata": {},
   "outputs": [
    {
     "name": "stdout",
     "output_type": "stream",
     "text": [
      "2018-03-01 02:09:17.850799\n"
     ]
    }
   ],
   "source": [
    "print(dt.datetime.now())"
   ]
  },
  {
   "cell_type": "markdown",
   "metadata": {},
   "source": [
    "now() 메소드를 통하여 현재 시간을 알 수 있다. 하지만 d1, d2 같은 인스턴스는 현재 시간이라는 정보를 나타내기 애매하다.<br>\n",
    "인스턴스는 각각의 정보를 가지고 있다는 것을 알 수 있다."
   ]
  },
  {
   "cell_type": "markdown",
   "metadata": {},
   "source": [
    "### 클래스 메소드\n",
    "\n",
    "static method와 class method는 클래스 소속<br>\n",
    "static method 위에는 @staticmethod라는 장식자를,\n",
    "class method 위에는 @classmethod 장식자를 붙이고 첫번째 인자(매개변수)로 cls를 사용한다.<br>\n",
    "cls : 소속되어 있는 클래스를 받는다."
   ]
  },
  {
   "cell_type": "code",
   "execution_count": 15,
   "metadata": {},
   "outputs": [
    {
     "name": "stdout",
     "output_type": "stream",
     "text": [
      "Static method\n",
      "Class method\n",
      "instance method\n"
     ]
    }
   ],
   "source": [
    "class Cs:\n",
    "    @staticmethod\n",
    "    def static_method():\n",
    "        print(\"Static method\")\n",
    "    @classmethod\n",
    "    def class_method(cls):\n",
    "        print(\"Class method\")\n",
    "    def instance_method(self):\n",
    "        print(\"instance method\")\n",
    "\n",
    "i = Cs()\n",
    "Cs.static_method()\n",
    "Cs.class_method()\n",
    "i.instance_method()"
   ]
  },
  {
   "cell_type": "markdown",
   "metadata": {},
   "source": [
    "### 클래스 변수\n",
    "\n",
    "클래스의 안, 메소드의 밖에 변수를 지정하면 클래스 변수가 된다.<br>\n",
    "메소드 안에서 변수를 호출하려면 [클래스이름].[변수이름]으로 호출해야 한다."
   ]
  },
  {
   "cell_type": "code",
   "execution_count": 16,
   "metadata": {},
   "outputs": [
    {
     "name": "stdout",
     "output_type": "stream",
     "text": [
      "4\n"
     ]
    }
   ],
   "source": [
    "class Cs:\n",
    "    count = 0\n",
    "    def __init__(self):\n",
    "        Cs.count = Cs.count + 1\n",
    "    @classmethod\n",
    "    def getCount(cls):\n",
    "        return Cs.count\n",
    "\n",
    "\n",
    "i1 = Cs()\n",
    "i2 = Cs()\n",
    "i3 = Cs()\n",
    "i4 = Cs()\n",
    "print(Cs.getCount())"
   ]
  },
  {
   "cell_type": "markdown",
   "metadata": {},
   "source": [
    "### 클래스 멤버 활용"
   ]
  },
  {
   "cell_type": "code",
   "execution_count": 22,
   "metadata": {},
   "outputs": [
    {
     "name": "stdout",
     "output_type": "stream",
     "text": [
      "9\n",
      "63\n",
      "14\n",
      "40\n",
      "2.5\n",
      "add : 4+5=9\n",
      "multiply : 7*9=63\n",
      "add : 10+4=14\n",
      "multiply : 10*4=40\n",
      "divide : 10/4=2\n"
     ]
    }
   ],
   "source": [
    "class Cal(object):\n",
    "    _history = []\n",
    "    def __init__(self, v1, v2):\n",
    "        if isinstance(v1, int):\n",
    "            self.v1 = v1\n",
    "        if isinstance(v2, int):\n",
    "            self.v2 = v2\n",
    "    def add(self):\n",
    "        result = self.v1+self.v2\n",
    "        Cal._history.append(\"add : %d+%d=%d\" % (self.v1, self.v2, result))\n",
    "        return result\n",
    "    def subtract(self):\n",
    "        result = self.v1-self.v2\n",
    "        Cal._history.append(\"subtract : %d-%d=%d\" % (self.v1, self.v2, result))\n",
    "    def setV1(self, v):\n",
    "        if isinstance(v, int):\n",
    "            self.v1 = v\n",
    "    def getV1(self):\n",
    "        return self.v1\n",
    "    @classmethod\n",
    "    def history(cls):\n",
    "        for item in Cal._history:\n",
    "            print(item)\n",
    "class CalMultiply(Cal):\n",
    "    def multiply(self):\n",
    "        result = self.v1*self.v2\n",
    "        Cal._history.append(\"multiply : %d*%d=%d\" % (self.v1, self.v2, result))\n",
    "        return result\n",
    "\n",
    "class CalDivide(CalMultiply):\n",
    "    def divide(self):\n",
    "        if self.v2==0:\n",
    "            print(\"numerator is 0\")\n",
    "            return\n",
    "        result = self.v1/self.v2\n",
    "        Cal._history.append(\"divide : %d/%d=%d\"% (self.v1, self.v2, result))\n",
    "        return result\n",
    "    \n",
    "cs1 = Cal(4, 5)\n",
    "cs2 = CalMultiply(7, 9)\n",
    "cs3 = CalDivide(10, 4)\n",
    "\n",
    "print(cs1.add())\n",
    "print(cs2.multiply())\n",
    "print(cs3.add())\n",
    "print(cs3.multiply())\n",
    "print(cs3.divide())\n",
    "Cal.history()"
   ]
  },
  {
   "cell_type": "code",
   "execution_count": null,
   "metadata": {
    "collapsed": true
   },
   "outputs": [],
   "source": []
  }
 ],
 "metadata": {
  "kernelspec": {
   "display_name": "Python 3",
   "language": "python",
   "name": "python3"
  },
  "language_info": {
   "codemirror_mode": {
    "name": "ipython",
    "version": 3
   },
   "file_extension": ".py",
   "mimetype": "text/x-python",
   "name": "python",
   "nbconvert_exporter": "python",
   "pygments_lexer": "ipython3",
   "version": "3.6.3"
  }
 },
 "nbformat": 4,
 "nbformat_minor": 2
}
