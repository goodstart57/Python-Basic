{
 "cells": [
  {
   "cell_type": "code",
   "execution_count": 1,
   "metadata": {},
   "outputs": [
    {
     "name": "stdout",
     "output_type": "stream",
     "text": [
      "입력해주세요.\n",
      "saebuck\n",
      "SAEBUCK World!\n"
     ]
    }
   ],
   "source": [
    "## input() : 사용자의 입력을 문자열로 저장\n",
    "in_str = input(\"입력해주세요.\\n\")\n",
    "print(in_str.upper()+\" World!\")"
   ]
  },
  {
   "cell_type": "code",
   "execution_count": 2,
   "metadata": {},
   "outputs": [
    {
     "name": "stdout",
     "output_type": "stream",
     "text": [
      "아이디를 입력해주세요.\n",
      "abcde\n",
      "Who are you?\n"
     ]
    }
   ],
   "source": [
    "## input() 함수를 이용하여 로그인 기능 추가\n",
    "in_str = input(\"아이디를 입력해주세요.\\n\")\n",
    "real_egoing = \"11\"\n",
    "real_k8805 = \"ab\"\n",
    "if real_egoing == in_str:\n",
    "    print(\"Hello!, egoing\")\n",
    "elif real_k8805 == in_str:\n",
    "    print(\"Hello!, k8805\")\n",
    "else:\n",
    "    print(\"Who are you?\")"
   ]
  },
  {
   "cell_type": "code",
   "execution_count": 4,
   "metadata": {},
   "outputs": [
    {
     "name": "stdout",
     "output_type": "stream",
     "text": [
      "아이디를 입력해주세요.\n",
      "ab\n",
      "Hello!, k8805\n"
     ]
    }
   ],
   "source": [
    "in_str = input(\"아이디를 입력해주세요.\\n\")\n",
    "if real_egoing == in_str:\n",
    "    print(\"Hello!, egoing\")\n",
    "elif real_k8805 == in_str:\n",
    "    print(\"Hello!, k8805\")\n",
    "else:\n",
    "    print(\"Who are you?\")"
   ]
  },
  {
   "cell_type": "code",
   "execution_count": null,
   "metadata": {
    "collapsed": true
   },
   "outputs": [],
   "source": []
  }
 ],
 "metadata": {
  "kernelspec": {
   "display_name": "Python 3",
   "language": "python",
   "name": "python3"
  },
  "language_info": {
   "codemirror_mode": {
    "name": "ipython",
    "version": 3
   },
   "file_extension": ".py",
   "mimetype": "text/x-python",
   "name": "python",
   "nbconvert_exporter": "python",
   "pygments_lexer": "ipython3",
   "version": "3.6.3"
  }
 },
 "nbformat": 4,
 "nbformat_minor": 2
}
