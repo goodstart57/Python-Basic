{
 "cells": [
  {
   "cell_type": "markdown",
   "metadata": {},
   "source": [
    "# 객체지향 프로그래밍의 원칙\n",
    "\n",
    "## 인캡슐레이션(Encapsulation)\n",
    "\n",
    "클래스, 메소드나 변수가 외부에 의해서 영향받아서 바뀌지 않도록 하는 것(캡슐화)\n",
    "\n",
    "set/get method 정의 -> 원치 않는 방향으로 수정되어서 문제가 발생하지 않도록 방지"
   ]
  },
  {
   "cell_type": "code",
   "execution_count": 8,
   "metadata": {},
   "outputs": [
    {
     "name": "stdout",
     "output_type": "stream",
     "text": [
      "10\n",
      "20\n"
     ]
    }
   ],
   "source": [
    "class C(object):\n",
    "    def __init__(self, v):\n",
    "        self.value = v\n",
    "    def show(self):\n",
    "        print(self.value)\n",
    "    def getValue(self):\n",
    "        return self.value\n",
    "    def setValue(self, v):\n",
    "        self.value=v\n",
    "        \n",
    "c1 = C(10)\n",
    "print(c1.getValue())\n",
    "\n",
    "c2 = C(20)\n",
    "print(c2.getValue())"
   ]
  },
  {
   "cell_type": "code",
   "execution_count": 9,
   "metadata": {},
   "outputs": [
    {
     "name": "stdout",
     "output_type": "stream",
     "text": [
      "10 10\n",
      "20\n",
      "0\n",
      "30 20\n",
      "50\n",
      "10\n"
     ]
    }
   ],
   "source": [
    "class Cal(object):\n",
    "    def __init__(self, v1, v2):\n",
    "        print(v1, v2)\n",
    "        if isinstance(v1, int):\n",
    "            self.v1=v1\n",
    "        if isinstance(v2, int):\n",
    "            self.v2=v2\n",
    "    def add(self):\n",
    "        return self.v1+self.v2\n",
    "    def subtract(self):\n",
    "        return self.v1-self.v2\n",
    "    def setV1(self, v):\n",
    "        if isinstance(v, int):\n",
    "            self.v1=v\n",
    "    def setV2(self, v):\n",
    "        if isinstance(v, int):\n",
    "            self.v2=v\n",
    "    \n",
    "c1 = Cal(10,10)\n",
    "print(c1.add())\n",
    "print(c1.subtract())\n",
    "\n",
    "c2 = Cal(30,20)\n",
    "print(c2.add())\n",
    "print(c2.subtract())"
   ]
  },
  {
   "cell_type": "markdown",
   "metadata": {},
   "source": [
    "## 클래스의 멤버변수에 접근하는것을 막는 방법\n",
    "\n",
    "변수의 이름 앞에 언더바 두개(\\_\\_)를 붙인다."
   ]
  },
  {
   "cell_type": "code",
   "execution_count": 10,
   "metadata": {},
   "outputs": [
    {
     "name": "stdout",
     "output_type": "stream",
     "text": [
      "10\n"
     ]
    },
    {
     "ename": "AttributeError",
     "evalue": "'C' object has no attribute '__value'",
     "output_type": "error",
     "traceback": [
      "\u001b[1;31m---------------------------------------------------------------------------\u001b[0m",
      "\u001b[1;31mAttributeError\u001b[0m                            Traceback (most recent call last)",
      "\u001b[1;32m<ipython-input-10-ded5ac2f87bf>\u001b[0m in \u001b[0;36m<module>\u001b[1;34m()\u001b[0m\n\u001b[0;32m      6\u001b[0m \u001b[0mc1\u001b[0m\u001b[1;33m=\u001b[0m\u001b[0mC\u001b[0m\u001b[1;33m(\u001b[0m\u001b[1;36m10\u001b[0m\u001b[1;33m)\u001b[0m\u001b[1;33m\u001b[0m\u001b[0m\n\u001b[0;32m      7\u001b[0m \u001b[0mc1\u001b[0m\u001b[1;33m.\u001b[0m\u001b[0mshow\u001b[0m\u001b[1;33m(\u001b[0m\u001b[1;33m)\u001b[0m\u001b[1;33m\u001b[0m\u001b[0m\n\u001b[1;32m----> 8\u001b[1;33m \u001b[0mprint\u001b[0m\u001b[1;33m(\u001b[0m\u001b[0mc1\u001b[0m\u001b[1;33m.\u001b[0m\u001b[0m__value\u001b[0m\u001b[1;33m)\u001b[0m\u001b[1;33m\u001b[0m\u001b[0m\n\u001b[0m",
      "\u001b[1;31mAttributeError\u001b[0m: 'C' object has no attribute '__value'"
     ]
    }
   ],
   "source": [
    "class C(object):\n",
    "    def __init__(self, v):\n",
    "        self.__value=v\n",
    "    def show(self):\n",
    "        print(self.__value)\n",
    "c1=C(10)\n",
    "c1.show()\n",
    "print(c1.__value)"
   ]
  },
  {
   "cell_type": "code",
   "execution_count": null,
   "metadata": {
    "collapsed": true
   },
   "outputs": [],
   "source": []
  }
 ],
 "metadata": {
  "kernelspec": {
   "display_name": "Python 3",
   "language": "python",
   "name": "python3"
  },
  "language_info": {
   "codemirror_mode": {
    "name": "ipython",
    "version": 3
   },
   "file_extension": ".py",
   "mimetype": "text/x-python",
   "name": "python",
   "nbconvert_exporter": "python",
   "pygments_lexer": "ipython3",
   "version": "3.6.3"
  }
 },
 "nbformat": 4,
 "nbformat_minor": 2
}
