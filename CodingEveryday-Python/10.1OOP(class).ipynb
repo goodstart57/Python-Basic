{
 "cells": [
  {
   "cell_type": "markdown",
   "metadata": {
    "collapsed": true
   },
   "source": [
    "# 객체지향 프로그래밍(Object-Oriented Programming)\n",
    "\n",
    "### Class\n",
    "서로 연관되어 있는 함수 뿐만 아니라 변수를 담을 수 있는 수납공간\n",
    "\n",
    "### Instance\n",
    "클래스를 사용하기 위해 복제한 것들인데 변수의 값이 다를 수 있다.\n",
    "\n",
    "흔히 비유하는 것으로 클래스는 붕어빵 틀, 인스턴스는 붕어빵에 비유\n",
    "\n",
    "\n",
    "### name1 = String.new(\"egoing\")\n",
    "### name2 = String.new(\"k8805\")\n",
    "\n",
    "에서 String : class, String.new(\"egoing\") : instance"
   ]
  },
  {
   "cell_type": "markdown",
   "metadata": {
    "collapsed": true
   },
   "source": [
    "## 객체 제작 : 클래스 만들기\n",
    "\n",
    "- 클래스 선언\n",
    "- 생성자\n",
    "    생성자의 첫번째 인자(self)는 인스턴스를 자동으로 받는다."
   ]
  },
  {
   "cell_type": "code",
   "execution_count": 6,
   "metadata": {},
   "outputs": [
    {
     "name": "stdout",
     "output_type": "stream",
     "text": [
      "10 10\n",
      "20\n",
      "0\n",
      "30 20\n",
      "50\n",
      "10\n"
     ]
    }
   ],
   "source": [
    "class Cal(object):\n",
    "    def __init__(self, v1, v2):\n",
    "        print(v1, v2)\n",
    "        self.v1=v1\n",
    "        self.v2=v2\n",
    "    def add(self):\n",
    "        return self.v1+self.v2\n",
    "    def subtract(self):\n",
    "        return self.v1-self.v2\n",
    "    \n",
    "c1 = Cal(10,10)\n",
    "print(c1.add())\n",
    "print(c1.subtract())\n",
    "\n",
    "c2 = Cal(30,20)\n",
    "print(c2.add())\n",
    "print(c2.subtract())"
   ]
  },
  {
   "cell_type": "code",
   "execution_count": null,
   "metadata": {
    "collapsed": true
   },
   "outputs": [],
   "source": []
  }
 ],
 "metadata": {
  "kernelspec": {
   "display_name": "Python 3",
   "language": "python",
   "name": "python3"
  },
  "language_info": {
   "codemirror_mode": {
    "name": "ipython",
    "version": 3
   },
   "file_extension": ".py",
   "mimetype": "text/x-python",
   "name": "python",
   "nbconvert_exporter": "python",
   "pygments_lexer": "ipython3",
   "version": "3.6.3"
  }
 },
 "nbformat": 4,
 "nbformat_minor": 2
}
