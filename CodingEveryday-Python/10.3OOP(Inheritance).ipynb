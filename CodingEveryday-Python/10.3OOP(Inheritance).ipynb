{
 "cells": [
  {
   "cell_type": "markdown",
   "metadata": {
    "collapsed": true
   },
   "source": [
    "# 상속 (Inheritance)\n",
    "\n",
    "프로그래밍에서의 상속은 현실에서 부모님께 물건을 상속받는 것과 같이 기능을 상속받아서 새로운 기능을 추가시킬 수 있다.<br>(기능 : 클래스 내의 변수나 메소드 등)"
   ]
  },
  {
   "cell_type": "code",
   "execution_count": 2,
   "metadata": {},
   "outputs": [
    {
     "name": "stdout",
     "output_type": "stream",
     "text": [
      "<__main__.Class1 object at 0x000002C6C9056AC8> m1\n",
      "<__main__.Class2 object at 0x000002C6C907BE80> m1\n",
      "<__main__.Class3 object at 0x000002C6C907BFD0> m1\n"
     ]
    }
   ],
   "source": [
    "##상속의 문법\n",
    "class Class1(object):\n",
    "    def method1(self): return 'm1'\n",
    "c1 = Class1()\n",
    "print(c1, c1.method1())\n",
    "\n",
    "class Class2(object):\n",
    "    def method1(self): return 'm1' ##Class1과 중복되는 부분\n",
    "    def method2(self): return 'm2'\n",
    "c2 = Class2()\n",
    "print(c2, c2.method1())\n",
    "\n",
    "##상속을 받아서 중복되는 부분을 제거한다.\n",
    "class Class3(Class1):\n",
    "    def method2(self): return 'm2'\n",
    "c3 = Class3()\n",
    "print(c3, c3.method1())"
   ]
  },
  {
   "cell_type": "markdown",
   "metadata": {},
   "source": [
    "### 상속의 응용"
   ]
  },
  {
   "cell_type": "code",
   "execution_count": 4,
   "metadata": {},
   "outputs": [
    {
     "name": "stdout",
     "output_type": "stream",
     "text": [
      "20\n",
      "100\n"
     ]
    }
   ],
   "source": [
    "class Cal(object):\n",
    "    def __init__(self, v1, v2):\n",
    "        if isinstance(v1, int):\n",
    "            self.v1 = v1\n",
    "        if isinstance(v2, int):\n",
    "            self.v2 = v2\n",
    "    def add(self):\n",
    "        return self.v1+self.v2\n",
    "    def subtract(self):\n",
    "        return self.v1-self.v2\n",
    "    def setV1(self, v):\n",
    "        if isinstance(v, int):\n",
    "            self.v1 = v\n",
    "    def getV1(self):\n",
    "        return self.v1\n",
    "    \n",
    "class CalMultiply(Cal):\n",
    "    def multiply(self):\n",
    "        return self.v1*self.v2\n",
    "\n",
    "c1 = CalMultiply(10, 10)\n",
    "print(c1.add())\n",
    "print(c1.multiply())"
   ]
  },
  {
   "cell_type": "markdown",
   "metadata": {},
   "source": [
    "Cal 클래스를 상속받은 CalMultiply의 인스턴스 c1은 multiply 메소드를 사용 할 수 있다."
   ]
  },
  {
   "cell_type": "code",
   "execution_count": null,
   "metadata": {
    "collapsed": true
   },
   "outputs": [],
   "source": []
  }
 ],
 "metadata": {
  "kernelspec": {
   "display_name": "Python 3",
   "language": "python",
   "name": "python3"
  },
  "language_info": {
   "codemirror_mode": {
    "name": "ipython",
    "version": 3
   },
   "file_extension": ".py",
   "mimetype": "text/x-python",
   "name": "python",
   "nbconvert_exporter": "python",
   "pygments_lexer": "ipython3",
   "version": "3.6.3"
  }
 },
 "nbformat": 4,
 "nbformat_minor": 2
}
