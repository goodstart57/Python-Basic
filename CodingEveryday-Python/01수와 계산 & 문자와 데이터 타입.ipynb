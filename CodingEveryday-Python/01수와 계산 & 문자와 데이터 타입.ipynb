{
 "cells": [
  {
   "cell_type": "code",
   "execution_count": 1,
   "metadata": {},
   "outputs": [
    {
     "name": "stdout",
     "output_type": "stream",
     "text": [
      "15\n",
      "5\n",
      "50\n",
      "2.0\n"
     ]
    }
   ],
   "source": [
    "print(10 + 5)\n",
    "print(10 - 5)\n",
    "print(10 * 5)\n",
    "print(10 / 5)"
   ]
  },
  {
   "cell_type": "code",
   "execution_count": 2,
   "metadata": {},
   "outputs": [
    {
     "name": "stdout",
     "output_type": "stream",
     "text": [
      "3\n",
      "2\n",
      "1024.0\n",
      "3.141592653589793\n"
     ]
    }
   ],
   "source": [
    "import math\n",
    "print(math.ceil(2.2))\n",
    "print(math.floor(2.7))\n",
    "print(math.pow(2,10))\n",
    "print(math.pi)"
   ]
  },
  {
   "cell_type": "code",
   "execution_count": 7,
   "metadata": {},
   "outputs": [
    {
     "name": "stdout",
     "output_type": "stream",
     "text": [
      "Hello\n",
      "Hello\n",
      "Hello 'world'\n",
      "Hello \"world\"\n"
     ]
    }
   ],
   "source": [
    "## 한글자를 문자(character), 문자가 묶여있는 줄을 문자열(string)\n",
    "print('Hello')\n",
    "print(\"Hello\")\n",
    "print(\"Hello 'world'\")\n",
    "print('Hello \"world\"')"
   ]
  },
  {
   "cell_type": "code",
   "execution_count": 8,
   "metadata": {},
   "outputs": [
    {
     "name": "stdout",
     "output_type": "stream",
     "text": [
      "Hello world\n",
      "Hello Hello Hello \n",
      "H\n",
      "e\n",
      "l\n",
      "Hello world\n",
      "11\n",
      "11\n",
      "Hello programming\n"
     ]
    }
   ],
   "source": [
    "## 문자열의 제어\n",
    "print('Hello '+'world')\n",
    "print('Hello '*3)\n",
    "print('Hello'[0])\n",
    "print('Hello'[1])\n",
    "print('Hello'[2])"
   ]
  },
  {
   "cell_type": "code",
   "execution_count": 9,
   "metadata": {},
   "outputs": [
    {
     "name": "stdout",
     "output_type": "stream",
     "text": [
      "Hello world\n",
      "11\n",
      "11\n",
      "Hello programming\n"
     ]
    }
   ],
   "source": [
    "## 문자열의 제어\n",
    "print('hello world'.capitalize())  # 첫글자 대문자로\n",
    "print('hello world'.__len__())\n",
    "print(len('hello world'))\n",
    "print('Hello world'.replace('world', 'programming'))"
   ]
  },
  {
   "cell_type": "code",
   "execution_count": 11,
   "metadata": {},
   "outputs": [
    {
     "name": "stdout",
     "output_type": "stream",
     "text": [
      "goorm's \"tutorial\"\n",
      "\\\n",
      "Hello\n",
      "world\n",
      "Hello\t\tworld\n",
      "\u0007\n"
     ]
    }
   ],
   "source": [
    "## 특수한 문자들\n",
    "print(\"goorm's \\\"tutorial\\\"\") #특수문자 입력시 \\입력\n",
    "print(\"\\\\\")\n",
    "print(\"Hello\\nworld\") # \\n : 줄바꿈\n",
    "print(\"Hello\\t\\tworld\") # \\t : tab"
   ]
  },
  {
   "cell_type": "code",
   "execution_count": 14,
   "metadata": {},
   "outputs": [
    {
     "name": "stdout",
     "output_type": "stream",
     "text": [
      "15\n",
      "105\n"
     ]
    }
   ],
   "source": [
    "## 문자와 숫자의 차이\n",
    "print(10+5)\n",
    "print(\"10\"+\"5\")"
   ]
  },
  {
   "cell_type": "code",
   "execution_count": null,
   "metadata": {
    "collapsed": true
   },
   "outputs": [],
   "source": []
  }
 ],
 "metadata": {
  "kernelspec": {
   "display_name": "Python 3",
   "language": "python",
   "name": "python3"
  },
  "language_info": {
   "codemirror_mode": {
    "name": "ipython",
    "version": 3
   },
   "file_extension": ".py",
   "mimetype": "text/x-python",
   "name": "python",
   "nbconvert_exporter": "python",
   "pygments_lexer": "ipython3",
   "version": "3.6.3"
  }
 },
 "nbformat": 4,
 "nbformat_minor": 2
}
