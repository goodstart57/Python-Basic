{
 "cells": [
  {
   "cell_type": "markdown",
   "metadata": {
    "collapsed": true
   },
   "source": [
    "# 객체지향 프로그래밍(Object-Oriented Programming)\n",
    "\n",
    "### Class\n",
    "서로 연관되어 있는 함수 뿐만 아니라 변수를 담을 수 있는 수납공간\n",
    "\n",
    "### Instance\n",
    "클래스를 사용하기 위해 복제한 것들인데 변수의 값이 다를 수 있다.\n",
    "\n",
    "흔히 비유하는 것으로 클래스는 붕어빵 틀, 인스턴스는 붕어빵에 비유\n",
    "\n",
    "\n",
    "### name1 = String.new(\"egoing\")\n",
    "### name2 = String.new(\"k8805\")\n",
    "\n",
    "에서 String : class, String.new(\"egoing\") : instance"
   ]
  },
  {
   "cell_type": "markdown",
   "metadata": {
    "collapsed": true
   },
   "source": [
    "## 객체 제작 : 클래스 만들기\n",
    "\n",
    "- 클래스 선언\n",
    "- 생성자\n",
    "    생성자의 첫번째 인자(self)는 인스턴스를 자동으로 받는다."
   ]
  },
  {
   "cell_type": "code",
   "execution_count": 6,
   "metadata": {},
   "outputs": [
    {
     "name": "stdout",
     "output_type": "stream",
     "text": [
      "10 10\n",
      "20\n",
      "0\n",
      "30 20\n",
      "50\n",
      "10\n"
     ]
    }
   ],
   "source": [
    "class Cal(object):\n",
    "    def __init__(self, v1, v2):\n",
    "        print(v1, v2)\n",
    "        self.v1=v1\n",
    "        self.v2=v2\n",
    "    def add(self):\n",
    "        return self.v1+self.v2\n",
    "    def subtract(self):\n",
    "        return self.v1-self.v2\n",
    "    \n",
    "c1 = Cal(10,10)\n",
    "print(c1.add())\n",
    "print(c1.subtract())\n",
    "\n",
    "c2 = Cal(30,20)\n",
    "print(c2.add())\n",
    "print(c2.subtract())"
   ]
  },
  {
   "cell_type": "markdown",
   "metadata": {},
   "source": [
    "# 객체지향 프로그래밍의 원칙\n",
    "\n",
    "## 인캡슐레이션(Encapsulation)\n",
    "\n",
    "클래스, 메소드나 변수가 외부에 의해서 영향받아서 바뀌지 않도록 하는 것(캡슐화)\n",
    "\n",
    "set/get method 정의 -> 원치 않는 방향으로 수정되어서 문제가 발생하지 않도록 방지"
   ]
  },
  {
   "cell_type": "code",
   "execution_count": 8,
   "metadata": {},
   "outputs": [
    {
     "name": "stdout",
     "output_type": "stream",
     "text": [
      "10\n",
      "20\n"
     ]
    }
   ],
   "source": [
    "class C(object):\n",
    "    def __init__(self, v):\n",
    "        self.value = v\n",
    "    def show(self):\n",
    "        print(self.value)\n",
    "    def getValue(self):\n",
    "        return self.value\n",
    "    def setValue(self, v):\n",
    "        self.value=v\n",
    "        \n",
    "c1 = C(10)\n",
    "print(c1.getValue())\n",
    "\n",
    "c2 = C(20)\n",
    "print(c2.getValue())"
   ]
  },
  {
   "cell_type": "code",
   "execution_count": 9,
   "metadata": {},
   "outputs": [
    {
     "name": "stdout",
     "output_type": "stream",
     "text": [
      "10 10\n",
      "20\n",
      "0\n",
      "30 20\n",
      "50\n",
      "10\n"
     ]
    }
   ],
   "source": [
    "class Cal(object):\n",
    "    def __init__(self, v1, v2):\n",
    "        print(v1, v2)\n",
    "        if isinstance(v1, int):\n",
    "            self.v1=v1\n",
    "        if isinstance(v2, int):\n",
    "            self.v2=v2\n",
    "    def add(self):\n",
    "        return self.v1+self.v2\n",
    "    def subtract(self):\n",
    "        return self.v1-self.v2\n",
    "    def setV1(self, v):\n",
    "        if isinstance(v, int):\n",
    "            self.v1=v\n",
    "    def setV2(self, v):\n",
    "        if isinstance(v, int):\n",
    "            self.v2=v\n",
    "    \n",
    "c1 = Cal(10,10)\n",
    "print(c1.add())\n",
    "print(c1.subtract())\n",
    "\n",
    "c2 = Cal(30,20)\n",
    "print(c2.add())\n",
    "print(c2.subtract())"
   ]
  },
  {
   "cell_type": "markdown",
   "metadata": {},
   "source": [
    "## 클래스의 멤버변수에 접근하는것을 막는 방법\n",
    "\n",
    "변수의 이름 앞에 언더바 두개(\\_\\_)를 붙인다."
   ]
  },
  {
   "cell_type": "code",
   "execution_count": 10,
   "metadata": {},
   "outputs": [
    {
     "name": "stdout",
     "output_type": "stream",
     "text": [
      "10\n"
     ]
    },
    {
     "ename": "AttributeError",
     "evalue": "'C' object has no attribute '__value'",
     "output_type": "error",
     "traceback": [
      "\u001b[1;31m---------------------------------------------------------------------------\u001b[0m",
      "\u001b[1;31mAttributeError\u001b[0m                            Traceback (most recent call last)",
      "\u001b[1;32m<ipython-input-10-ded5ac2f87bf>\u001b[0m in \u001b[0;36m<module>\u001b[1;34m()\u001b[0m\n\u001b[0;32m      6\u001b[0m \u001b[0mc1\u001b[0m\u001b[1;33m=\u001b[0m\u001b[0mC\u001b[0m\u001b[1;33m(\u001b[0m\u001b[1;36m10\u001b[0m\u001b[1;33m)\u001b[0m\u001b[1;33m\u001b[0m\u001b[0m\n\u001b[0;32m      7\u001b[0m \u001b[0mc1\u001b[0m\u001b[1;33m.\u001b[0m\u001b[0mshow\u001b[0m\u001b[1;33m(\u001b[0m\u001b[1;33m)\u001b[0m\u001b[1;33m\u001b[0m\u001b[0m\n\u001b[1;32m----> 8\u001b[1;33m \u001b[0mprint\u001b[0m\u001b[1;33m(\u001b[0m\u001b[0mc1\u001b[0m\u001b[1;33m.\u001b[0m\u001b[0m__value\u001b[0m\u001b[1;33m)\u001b[0m\u001b[1;33m\u001b[0m\u001b[0m\n\u001b[0m",
      "\u001b[1;31mAttributeError\u001b[0m: 'C' object has no attribute '__value'"
     ]
    }
   ],
   "source": [
    "class C(object):\n",
    "    def __init__(self, v):\n",
    "        self.__value=v\n",
    "    def show(self):\n",
    "        print(self.__value)\n",
    "c1=C(10)\n",
    "c1.show()\n",
    "print(c1.__value)"
   ]
  },
  {
   "cell_type": "markdown",
   "metadata": {
    "collapsed": true
   },
   "source": [
    "# 상속 (Inheritance)\n",
    "\n",
    "프로그래밍에서의 상속은 현실에서 부모님께 물건을 상속받는 것과 같이 기능을 상속받아서 새로운 기능을 추가시킬 수 있다.<br>(기능 : 클래스 내의 변수나 메소드 등)"
   ]
  },
  {
   "cell_type": "code",
   "execution_count": 2,
   "metadata": {},
   "outputs": [
    {
     "name": "stdout",
     "output_type": "stream",
     "text": [
      "<__main__.Class1 object at 0x000002C6C9056AC8> m1\n",
      "<__main__.Class2 object at 0x000002C6C907BE80> m1\n",
      "<__main__.Class3 object at 0x000002C6C907BFD0> m1\n"
     ]
    }
   ],
   "source": [
    "##상속의 문법\n",
    "class Class1(object):\n",
    "    def method1(self): return 'm1'\n",
    "c1 = Class1()\n",
    "print(c1, c1.method1())\n",
    "\n",
    "class Class2(object):\n",
    "    def method1(self): return 'm1' ##Class1과 중복되는 부분\n",
    "    def method2(self): return 'm2'\n",
    "c2 = Class2()\n",
    "print(c2, c2.method1())\n",
    "\n",
    "##상속을 받아서 중복되는 부분을 제거한다.\n",
    "class Class3(Class1):\n",
    "    def method2(self): return 'm2'\n",
    "c3 = Class3()\n",
    "print(c3, c3.method1())"
   ]
  },
  {
   "cell_type": "markdown",
   "metadata": {},
   "source": [
    "### 상속의 응용"
   ]
  },
  {
   "cell_type": "code",
   "execution_count": 4,
   "metadata": {},
   "outputs": [
    {
     "name": "stdout",
     "output_type": "stream",
     "text": [
      "20\n",
      "100\n"
     ]
    }
   ],
   "source": [
    "class Cal(object):\n",
    "    def __init__(self, v1, v2):\n",
    "        if isinstance(v1, int):\n",
    "            self.v1 = v1\n",
    "        if isinstance(v2, int):\n",
    "            self.v2 = v2\n",
    "    def add(self):\n",
    "        return self.v1+self.v2\n",
    "    def subtract(self):\n",
    "        return self.v1-self.v2\n",
    "    def setV1(self, v):\n",
    "        if isinstance(v, int):\n",
    "            self.v1 = v\n",
    "    def getV1(self):\n",
    "        return self.v1\n",
    "    \n",
    "class CalMultiply(Cal):\n",
    "    def multiply(self):\n",
    "        return self.v1*self.v2\n",
    "\n",
    "c1 = CalMultiply(10, 10)\n",
    "print(c1.add())\n",
    "print(c1.multiply())"
   ]
  },
  {
   "cell_type": "markdown",
   "metadata": {},
   "source": [
    "Cal 클래스를 상속받은 CalMultiply의 인스턴스 c1은 multiply 메소드를 사용 할 수 있다."
   ]
  },
  {
   "cell_type": "markdown",
   "metadata": {},
   "source": [
    "### 클래스 멤버"
   ]
  },
  {
   "cell_type": "code",
   "execution_count": 9,
   "metadata": {},
   "outputs": [
    {
     "name": "stdout",
     "output_type": "stream",
     "text": [
      "2018\n",
      "2010\n"
     ]
    }
   ],
   "source": [
    "import datetime as dt\n",
    "d1 = dt.datetime(2018, 3, 1)\n",
    "d2 = dt.datetime(2010, 1, 1)\n",
    "print(d1.year)\n",
    "print(d2.year)"
   ]
  },
  {
   "cell_type": "markdown",
   "metadata": {},
   "source": [
    "위에서 d1.year과 d2.year를 보면 d1, d2이라는 각각 인스턴스의 year임을 알 수 있다."
   ]
  },
  {
   "cell_type": "code",
   "execution_count": 12,
   "metadata": {},
   "outputs": [
    {
     "name": "stdout",
     "output_type": "stream",
     "text": [
      "2018-03-01 02:09:17.850799\n"
     ]
    }
   ],
   "source": [
    "print(dt.datetime.now())"
   ]
  },
  {
   "cell_type": "markdown",
   "metadata": {},
   "source": [
    "now() 메소드를 통하여 현재 시간을 알 수 있다. 하지만 d1, d2 같은 인스턴스는 현재 시간이라는 정보를 나타내기 애매하다.<br>\n",
    "인스턴스는 각각의 정보를 가지고 있다는 것을 알 수 있다."
   ]
  },
  {
   "cell_type": "markdown",
   "metadata": {},
   "source": [
    "### 클래스 메소드\n",
    "\n",
    "static method와 class method는 클래스 소속<br>\n",
    "static method 위에는 @staticmethod라는 장식자를,\n",
    "class method 위에는 @classmethod 장식자를 붙이고 첫번째 인자(매개변수)로 cls를 사용한다.<br>\n",
    "cls : 소속되어 있는 클래스를 받는다."
   ]
  },
  {
   "cell_type": "code",
   "execution_count": 15,
   "metadata": {},
   "outputs": [
    {
     "name": "stdout",
     "output_type": "stream",
     "text": [
      "Static method\n",
      "Class method\n",
      "instance method\n"
     ]
    }
   ],
   "source": [
    "class Cs:\n",
    "    @staticmethod\n",
    "    def static_method():\n",
    "        print(\"Static method\")\n",
    "    @classmethod\n",
    "    def class_method(cls):\n",
    "        print(\"Class method\")\n",
    "    def instance_method(self):\n",
    "        print(\"instance method\")\n",
    "\n",
    "i = Cs()\n",
    "Cs.static_method()\n",
    "Cs.class_method()\n",
    "i.instance_method()"
   ]
  },
  {
   "cell_type": "markdown",
   "metadata": {},
   "source": [
    "### 클래스 변수\n",
    "\n",
    "클래스의 안, 메소드의 밖에 변수를 지정하면 클래스 변수가 된다.<br>\n",
    "메소드 안에서 변수를 호출하려면 [클래스이름].[변수이름]으로 호출해야 한다."
   ]
  },
  {
   "cell_type": "code",
   "execution_count": 16,
   "metadata": {},
   "outputs": [
    {
     "name": "stdout",
     "output_type": "stream",
     "text": [
      "4\n"
     ]
    }
   ],
   "source": [
    "class Cs:\n",
    "    count = 0\n",
    "    def __init__(self):\n",
    "        Cs.count = Cs.count + 1\n",
    "    @classmethod\n",
    "    def getCount(cls):\n",
    "        return Cs.count\n",
    "\n",
    "\n",
    "i1 = Cs()\n",
    "i2 = Cs()\n",
    "i3 = Cs()\n",
    "i4 = Cs()\n",
    "print(Cs.getCount())"
   ]
  },
  {
   "cell_type": "markdown",
   "metadata": {},
   "source": [
    "### 클래스 멤버 활용"
   ]
  },
  {
   "cell_type": "code",
   "execution_count": 22,
   "metadata": {},
   "outputs": [
    {
     "name": "stdout",
     "output_type": "stream",
     "text": [
      "9\n",
      "63\n",
      "14\n",
      "40\n",
      "2.5\n",
      "add : 4+5=9\n",
      "multiply : 7*9=63\n",
      "add : 10+4=14\n",
      "multiply : 10*4=40\n",
      "divide : 10/4=2\n"
     ]
    }
   ],
   "source": [
    "class Cal(object):\n",
    "    _history = []\n",
    "    def __init__(self, v1, v2):\n",
    "        if isinstance(v1, int):\n",
    "            self.v1 = v1\n",
    "        if isinstance(v2, int):\n",
    "            self.v2 = v2\n",
    "    def add(self):\n",
    "        result = self.v1+self.v2\n",
    "        Cal._history.append(\"add : %d+%d=%d\" % (self.v1, self.v2, result))\n",
    "        return result\n",
    "    def subtract(self):\n",
    "        result = self.v1-self.v2\n",
    "        Cal._history.append(\"subtract : %d-%d=%d\" % (self.v1, self.v2, result))\n",
    "    def setV1(self, v):\n",
    "        if isinstance(v, int):\n",
    "            self.v1 = v\n",
    "    def getV1(self):\n",
    "        return self.v1\n",
    "    @classmethod\n",
    "    def history(cls):\n",
    "        for item in Cal._history:\n",
    "            print(item)\n",
    "class CalMultiply(Cal):\n",
    "    def multiply(self):\n",
    "        result = self.v1*self.v2\n",
    "        Cal._history.append(\"multiply : %d*%d=%d\" % (self.v1, self.v2, result))\n",
    "        return result\n",
    "\n",
    "class CalDivide(CalMultiply):\n",
    "    def divide(self):\n",
    "        if self.v2==0:\n",
    "            print(\"numerator is 0\")\n",
    "            return\n",
    "        result = self.v1/self.v2\n",
    "        Cal._history.append(\"divide : %d/%d=%d\"% (self.v1, self.v2, result))\n",
    "        return result\n",
    "    \n",
    "cs1 = Cal(4, 5)\n",
    "cs2 = CalMultiply(7, 9)\n",
    "cs3 = CalDivide(10, 4)\n",
    "\n",
    "print(cs1.add())\n",
    "print(cs2.multiply())\n",
    "print(cs3.add())\n",
    "print(cs3.multiply())\n",
    "print(cs3.divide())\n",
    "Cal.history()"
   ]
  },
  {
   "cell_type": "code",
   "execution_count": null,
   "metadata": {
    "collapsed": true
   },
   "outputs": [],
   "source": []
  }
 ],
 "metadata": {
  "kernelspec": {
   "display_name": "Python 3",
   "language": "python",
   "name": "python3"
  },
  "language_info": {
   "codemirror_mode": {
    "name": "ipython",
    "version": 3
   },
   "file_extension": ".py",
   "mimetype": "text/x-python",
   "name": "python",
   "nbconvert_exporter": "python",
   "pygments_lexer": "ipython3",
   "version": "3.6.3"
  }
 },
 "nbformat": 4,
 "nbformat_minor": 2
}
