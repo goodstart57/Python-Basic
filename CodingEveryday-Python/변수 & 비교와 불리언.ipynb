{
 "cells": [
  {
   "cell_type": "code",
   "execution_count": 1,
   "metadata": {},
   "outputs": [
    {
     "name": "stdout",
     "output_type": "stream",
     "text": [
      "15\n",
      "Title is python\n"
     ]
    }
   ],
   "source": [
    "## 변수의 기본 문법\n",
    "x=10\n",
    "y=5\n",
    "print(x+y)\n",
    "\n",
    "title = \"python\"\n",
    "print(\"Title is \"+title)"
   ]
  },
  {
   "cell_type": "code",
   "execution_count": 4,
   "metadata": {},
   "outputs": [
    {
     "name": "stdout",
     "output_type": "stream",
     "text": [
      "안녕하세요. saebuck님\n",
      "saebuck님을 위한 강의를 준비했습니다.\n",
      "saebuck님 꼭 참석 부탁드립니다.\n"
     ]
    }
   ],
   "source": [
    "## 문자열에서 변수의 사용\n",
    "name=\"saebuck\"\n",
    "print(\"안녕하세요. \" + name + \"님\")\n",
    "print(name+\"님을 위한 강의를 준비했습니다.\")\n",
    "print(name+\"님 꼭 참석 부탁드립니다.\")"
   ]
  },
  {
   "cell_type": "code",
   "execution_count": 5,
   "metadata": {},
   "outputs": [
    {
     "name": "stdout",
     "output_type": "stream",
     "text": [
      "95.66666666666667\n"
     ]
    }
   ],
   "source": [
    "## 수 계산에서 변수의 사용\n",
    "kor=100\n",
    "eng=90\n",
    "math=97\n",
    "num=3\n",
    "print((kor+eng+math)/num)"
   ]
  },
  {
   "cell_type": "code",
   "execution_count": null,
   "metadata": {
    "collapsed": true
   },
   "outputs": [],
   "source": [
    "## 비교와 불리언\n",
    "a=1 # =이 하나가 나오면 우항을 좌항에 대입하는 대입연산자\n",
    "b=1\n",
    "print(a==b) # ==이면 좌우항이 같은지 비교하는 비교연산자\n",
    "print(1==2) # 같다면(참이라면) True(1), 다르다면(거짓이라면) FALSE(0)을 리턴한다.\n",
    "print(1>2)  # 부등호에도 똑같이 참이라면 True(1), 거짓이라면 FALSE(0)을 리턴한다.\n",
    "print(1<2)\n",
    "print(True)\n",
    "print(False)"
   ]
  }
 ],
 "metadata": {
  "kernelspec": {
   "display_name": "Python 3",
   "language": "python",
   "name": "python3"
  },
  "language_info": {
   "codemirror_mode": {
    "name": "ipython",
    "version": 3
   },
   "file_extension": ".py",
   "mimetype": "text/x-python",
   "name": "python",
   "nbconvert_exporter": "python",
   "pygments_lexer": "ipython3",
   "version": "3.6.3"
  }
 },
 "nbformat": 4,
 "nbformat_minor": 2
}
