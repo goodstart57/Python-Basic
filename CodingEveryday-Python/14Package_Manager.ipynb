{
 "cells": [
  {
   "cell_type": "markdown",
   "metadata": {},
   "source": [
    "# 패키지 매니저(Package Manager)\n",
    "\n",
    "### 패키지(Package)\n",
    "\n",
    "완성된 소프트웨어나 다른 소프트웨어를 완성하기 위해서 필요한 부품이 되는 소프트웨어를 의미합니다.\n",
    "\n",
    "### 패키지 매니저\n",
    "\n",
    "패키지 다운로드, 설치, 빌드 등을 도와주는 소프트웨어\n",
    "\n",
    "### PyPI(Python Package Index)\n",
    "\n",
    "[파이썬의 패키지들을 정리해둔 사이트 link](https://pypi.python.org/pypi)\n",
    "\n",
    "### PIP\n",
    "\n",
    "파이썬의 패키지 매니저"
   ]
  },
  {
   "cell_type": "code",
   "execution_count": null,
   "metadata": {
    "collapsed": true
   },
   "outputs": [],
   "source": []
  }
 ],
 "metadata": {
  "kernelspec": {
   "display_name": "Python 3",
   "language": "python",
   "name": "python3"
  },
  "language_info": {
   "codemirror_mode": {
    "name": "ipython",
    "version": 3
   },
   "file_extension": ".py",
   "mimetype": "text/x-python",
   "name": "python",
   "nbconvert_exporter": "python",
   "pygments_lexer": "ipython3",
   "version": "3.6.3"
  }
 },
 "nbformat": 4,
 "nbformat_minor": 2
}
