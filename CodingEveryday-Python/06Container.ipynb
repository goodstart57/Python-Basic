{
 "cells": [
  {
   "cell_type": "markdown",
   "metadata": {},
   "source": [
    "# 컨테이너\n",
    "\n",
    "컨테이너(용기)와 비슷한 것으로 변수를 예를 들 수 있다.<br>하지만 변수에는 하나의 값만 들어갈 수 있는 한계가 있다.<br>컨테이너는 하나에 여러개의 값이 들어갈 수 있다.\n",
    "\n",
    "다음의 예제는 list이다."
   ]
  },
  {
   "cell_type": "code",
   "execution_count": 1,
   "metadata": {},
   "outputs": [
    {
     "name": "stdout",
     "output_type": "stream",
     "text": [
      "<class 'str'>\n",
      "egoing\n",
      "<class 'list'>\n"
     ]
    }
   ],
   "source": [
    "print(type('egoing')) #<class 'str'>\n",
    "name = 'egoing'\n",
    "print(name) #egoing\n",
    "print(type(['egoing', 'leezche', 'graphittie'])) #<class 'list'>"
   ]
  },
  {
   "cell_type": "code",
   "execution_count": 2,
   "metadata": {},
   "outputs": [
    {
     "name": "stdout",
     "output_type": "stream",
     "text": [
      "['egoing', 'leezche', 'graphittie']\n",
      "graphittie\n",
      "<class 'str'>\n"
     ]
    }
   ],
   "source": [
    "names = ['egoing', 'leezche', 'graphittie']\n",
    "print(names) \n",
    "print(names[2]) #graphittie\n",
    "print(type(names[2]))"
   ]
  },
  {
   "cell_type": "code",
   "execution_count": 4,
   "metadata": {},
   "outputs": [
    {
     "name": "stdout",
     "output_type": "stream",
     "text": [
      "['programmer', 'seoul', 25, False]\n",
      "['programmer', 'busan', 25, False]\n",
      "<class 'list'>\n"
     ]
    }
   ],
   "source": [
    "egoing = ['programmer', 'seoul', 25, False]\n",
    "print(egoing)\n",
    "egoing[1] = 'busan'\n",
    "print(egoing) #['programmer', 'busan', 25, False]\n",
    "print(type(egoing))"
   ]
  },
  {
   "cell_type": "markdown",
   "metadata": {
    "collapsed": true
   },
   "source": [
    "## list 심화"
   ]
  },
  {
   "cell_type": "code",
   "execution_count": 2,
   "metadata": {},
   "outputs": [
    {
     "name": "stdout",
     "output_type": "stream",
     "text": [
      "4\n",
      "['A', 'B', 'C', 'D', 'E']\n",
      "['B', 'C', 'D', 'E']\n"
     ]
    }
   ],
   "source": [
    "al = ['A', 'B', 'C', 'D']\n",
    "print(len(al)) ## list \"al\"의 길이가 4\n",
    "al.append('E') ## liat \"al\"의 맨 뒤에 'E' 추가\n",
    "print(al) #['A', 'B', 'C', 'D', 'E']\n",
    "del(al[0]) ## list \"al\"의 첫번째 element 삭제\n",
    "print(al) #['B', 'C', 'D', 'E']"
   ]
  },
  {
   "cell_type": "code",
   "execution_count": null,
   "metadata": {
    "collapsed": true
   },
   "outputs": [],
   "source": []
  }
 ],
 "metadata": {
  "kernelspec": {
   "display_name": "Python 3",
   "language": "python",
   "name": "python3"
  },
  "language_info": {
   "codemirror_mode": {
    "name": "ipython",
    "version": 3
   },
   "file_extension": ".py",
   "mimetype": "text/x-python",
   "name": "python",
   "nbconvert_exporter": "python",
   "pygments_lexer": "ipython3",
   "version": "3.6.3"
  }
 },
 "nbformat": 4,
 "nbformat_minor": 2
}
