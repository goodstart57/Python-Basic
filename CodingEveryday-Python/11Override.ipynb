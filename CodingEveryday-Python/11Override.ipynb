{
 "cells": [
  {
   "cell_type": "markdown",
   "metadata": {},
   "source": [
    "# 재정의(Override)\n",
    "\n",
    "부모 객체에는 기능1, 기능2가 있다<br>\n",
    "하지만 자식 객체는 기능2가 필요 없거나 비슷하지만 다른 기능을 원할 때 기능2를 __재정의(override)__한다."
   ]
  },
  {
   "cell_type": "code",
   "execution_count": 3,
   "metadata": {},
   "outputs": [
    {
     "name": "stdout",
     "output_type": "stream",
     "text": [
      "parent\n"
     ]
    }
   ],
   "source": [
    "class C1(object):\n",
    "    def m(self):\n",
    "        return 'parent'\n",
    "    \n",
    "class C2(C1):\n",
    "    #메소드가 존재하지 않는 클래스엔 pass를 써준다.(오류를 패스)\n",
    "    pass\n",
    "o = C2()\n",
    "print(o.m())"
   ]
  },
  {
   "cell_type": "code",
   "execution_count": 8,
   "metadata": {},
   "outputs": [
    {
     "name": "stdout",
     "output_type": "stream",
     "text": [
      "parent child\n"
     ]
    }
   ],
   "source": [
    "class C1(object):\n",
    "    def m(self):\n",
    "        return 'parent'\n",
    "    \n",
    "class C2(C1):\n",
    "    def m(self):\n",
    "        return super().m() + ' child'\n",
    "    pass\n",
    "o = C2()\n",
    "print(o.m())"
   ]
  },
  {
   "cell_type": "markdown",
   "metadata": {},
   "source": [
    "### Override의 예제"
   ]
  },
  {
   "cell_type": "code",
   "execution_count": 13,
   "metadata": {},
   "outputs": [
    {
     "name": "stdout",
     "output_type": "stream",
     "text": [
      "Cal => v1 : 30, v2 : 60\n",
      "CalMultiply =>  Cal => v1 : 10, v2 : 10\n",
      "CalDivide => CalMultiply =>  Cal => v1 : 20, v2 : 10\n"
     ]
    }
   ],
   "source": [
    "class Cal(object):\n",
    "    _history = []\n",
    "    def __init__(self, v1, v2):\n",
    "        if isinstance(v1, int):\n",
    "            self.v1 = v1\n",
    "        if isinstance(v2, int):\n",
    "            self.v2 = v2\n",
    "    def add(self):\n",
    "        result = self.v1+self.v2\n",
    "        Cal._history.append(\"add : %d+%d=%d\" % (self.v1, self.v2, result))\n",
    "        return result\n",
    "    def subtract(self):\n",
    "        result = self.v1-self.v2\n",
    "        Cal._history.append(\"subtract : %d-%d=%d\" % (self.v1, self.v2, result))\n",
    "    def setV1(self, v):\n",
    "        if isinstance(v, int):\n",
    "            self.v1 = v\n",
    "    def getV1(self):\n",
    "        return self.v1\n",
    "    @classmethod\n",
    "    def history(cls):\n",
    "        for item in Cal._history:\n",
    "            print(item)\n",
    "    def info(self):\n",
    "        return \"Cal => v1 : %d, v2 : %d\" % (self.v1, self.v2)\n",
    "    \n",
    "class CalMultiply(Cal):\n",
    "    def multiply(self):\n",
    "        result = self.v1*self.v2\n",
    "        Cal._history.append(\"multiply : %d*%d=%d\" % (self.v1, self.v2, result))\n",
    "        return result\n",
    "    def info(self):\n",
    "        return \"CalMultiply =>  %s\" % (super().info())\n",
    "\n",
    "class CalDivide(CalMultiply):\n",
    "    def divide(self):\n",
    "        if self.v2==0:\n",
    "            print(\"numerator is 0\")\n",
    "            return\n",
    "        result = self.v1/self.v2\n",
    "        Cal._history.append(\"divide : %d/%d=%d\"% (self.v1, self.v2, result))\n",
    "        return result\n",
    "    def info(self):\n",
    "        return \"CalDivide => %s\" % (super().info())\n",
    "    \n",
    "c0 = Cal(30,60)\n",
    "print(c0.info())\n",
    "c1 = CalMultiply(10,10)\n",
    "print(c1.info())\n",
    "c2 = CalDivide(20,10)\n",
    "print(c2.info())"
   ]
  },
  {
   "cell_type": "code",
   "execution_count": null,
   "metadata": {
    "collapsed": true
   },
   "outputs": [],
   "source": []
  }
 ],
 "metadata": {
  "kernelspec": {
   "display_name": "Python 3",
   "language": "python",
   "name": "python3"
  },
  "language_info": {
   "codemirror_mode": {
    "name": "ipython",
    "version": 3
   },
   "file_extension": ".py",
   "mimetype": "text/x-python",
   "name": "python",
   "nbconvert_exporter": "python",
   "pygments_lexer": "ipython3",
   "version": "3.6.3"
  }
 },
 "nbformat": 4,
 "nbformat_minor": 2
}
