{
 "cells": [
  {
   "cell_type": "code",
   "execution_count": 1,
   "metadata": {},
   "outputs": [
    {
     "name": "stdout",
     "output_type": "stream",
     "text": [
      "code1\n",
      "code2\n",
      "code3\n"
     ]
    }
   ],
   "source": [
    "## 조건문내부의 코드는 if와 :사이의 조건식이 참인 경우에 실행된다\n",
    "## Conditional Statements\n",
    "if True:\n",
    "    print(\"code1\")\n",
    "    print(\"code2\")\n",
    "print(\"code3\")"
   ]
  },
  {
   "cell_type": "code",
   "execution_count": 2,
   "metadata": {},
   "outputs": [
    {
     "name": "stdout",
     "output_type": "stream",
     "text": [
      "Hello!\n"
     ]
    }
   ],
   "source": [
    "## 변수를 이용한 조건문\n",
    "input = 11\n",
    "real = 11\n",
    "if real == input:\n",
    "    print(\"Hello!\")"
   ]
  },
  {
   "cell_type": "code",
   "execution_count": 3,
   "metadata": {},
   "outputs": [
    {
     "name": "stdout",
     "output_type": "stream",
     "text": [
      "Hello!\n"
     ]
    }
   ],
   "source": [
    "## else 사용 방법\n",
    "input = 11\n",
    "real = 11\n",
    "if real == input:\n",
    "    print(\"Hello!\")\n",
    "else:\n",
    "    print(\"Who are you?\")"
   ]
  },
  {
   "cell_type": "code",
   "execution_count": 4,
   "metadata": {},
   "outputs": [
    {
     "name": "stdout",
     "output_type": "stream",
     "text": [
      "Who are you?\n"
     ]
    }
   ],
   "source": [
    "## if ... elif ... else\n",
    "input = 33\n",
    "real_egoing = 11\n",
    "real_k8805 = \"ab\"\n",
    "if real_egoing == input:\n",
    "  print(\"Hello!, egoing\")\n",
    "elif real_k8805 == input:\n",
    "  print(\"Hello!, k8805\")\n",
    "else:\n",
    "  print(\"Who are you?\")"
   ]
  },
  {
   "cell_type": "code",
   "execution_count": null,
   "metadata": {
    "collapsed": true
   },
   "outputs": [],
   "source": []
  }
 ],
 "metadata": {
  "kernelspec": {
   "display_name": "Python 3",
   "language": "python",
   "name": "python3"
  },
  "language_info": {
   "codemirror_mode": {
    "name": "ipython",
    "version": 3
   },
   "file_extension": ".py",
   "mimetype": "text/x-python",
   "name": "python",
   "nbconvert_exporter": "python",
   "pygments_lexer": "ipython3",
   "version": "3.6.3"
  }
 },
 "nbformat": 4,
 "nbformat_minor": 2
}
