{
 "cells": [
  {
   "cell_type": "markdown",
   "metadata": {},
   "source": [
    "# 논리연산자 : AND, OR, NOT\n",
    "boolean 자료형을 연산하여 boolean을 출력합니다.\n",
    "\n",
    "<br>\n",
    "<br>\n",
    "\n",
    "<center>\n",
    "    <font size=4> Truth Table </font>\n",
    "</center>\n",
    "\n",
    "1st | Operator | 2nd | Output | ★ | 1st | Operator | 2nd | Output | ☆ | Operator | 1st | Output\n",
    "----|----------|-----|--------|----|-----|----------|-----|--------|----|----------|-----|-------\n",
    "True | AND | True | True | | True | OR | True | True | | NOT | True | False  \n",
    "True | AND | False | False | | True | OR | False | True | | NOT | False | True\n",
    "False | AND | True | False | | False | OR | True | True | | | |\n",
    "False | AND | False | True | | False | OR | False | False | | | |"
   ]
  },
  {
   "cell_type": "code",
   "execution_count": 1,
   "metadata": {},
   "outputs": [
    {
     "name": "stdout",
     "output_type": "stream",
     "text": [
      "아이디를 입력해주세요.\n",
      "egoing\n",
      "Hello!\n"
     ]
    }
   ],
   "source": [
    "in_str = input(\"아이디를 입력해주세요.\\n\")\n",
    "real_egoing = \"egoing\"\n",
    "real_k8805 = \"k8805\"\n",
    "if real_egoing == in_str or real_k8805 == in_str:\n",
    "  print(\"Hello!\")\n",
    "else:\n",
    "  print(\"Who are you?\")"
   ]
  },
  {
   "cell_type": "code",
   "execution_count": 3,
   "metadata": {},
   "outputs": [
    {
     "name": "stdout",
     "output_type": "stream",
     "text": [
      "아이디를 입력해주세요.\n",
      "egoing\n",
      "비밀번호를 입력해주세요.\n",
      "11\n",
      "Hello!\n"
     ]
    }
   ],
   "source": [
    "input_id = input(\"아이디를 입력해주세요.\\n\")\n",
    "input_pwd = input(\"비밀번호를 입력해주세요.\\n\")\n",
    "real_id = \"egoing\"\n",
    "real_pwd = \"11\"\n",
    "\n",
    "#if를 중첩해서 사용한 예제\n",
    "'''\n",
    "if real_id == input_id:\n",
    "    if real_pwd == input_pwd:\n",
    "        print(\"Hello!\")\n",
    "    else:\n",
    "        print(\"잘못된 비밀번호입니다\")\n",
    "else:\n",
    "    print(\"잘못된 아이디입니다\")\n",
    "'''\n",
    "\n",
    "#and로 통합한 예제\n",
    "if real_id == input_id and real_pwd == input_pwd:\n",
    "    print(\"Hello!\")\n",
    "else:\n",
    "    print(\"로그인에 실패했습니다\")"
   ]
  },
  {
   "cell_type": "markdown",
   "metadata": {},
   "source": [
    "# Python Cheatsheet\n",
    "\n",
    "[Python 3 Cheat Sheet](https://perso.limsi.fr/pointal/_media/python:cours:mementopython3-english.pdf)\n",
    "\n",
    "[Python 2.4 Quick Reference Card](http://www.cheat-sheets.org/saved-copy/PQRC-2.4-A4-latest.pdf)\n",
    "\n",
    "[OverAPI.com](http://overapi.com/python)"
   ]
  },
  {
   "cell_type": "markdown",
   "metadata": {
    "collapsed": true
   },
   "source": [
    "# Annotation\n",
    "\n",
    "코드에 대한 부연설명으로 __#__이나 __''' '''__으로 이용한다"
   ]
  },
  {
   "cell_type": "code",
   "execution_count": 1,
   "metadata": {},
   "outputs": [
    {
     "name": "stdout",
     "output_type": "stream",
     "text": [
      "Who are you?\n"
     ]
    }
   ],
   "source": [
    "'''\n",
    "조건문 예제\n",
    "egoing\n",
    "2015\n",
    "'''\n",
    "# user input password\n",
    "input = 33\n",
    "real_egoing = 11\n",
    "#real_k8805 = \"ab\"\n",
    "if real_egoing == input:\n",
    "  print(\"Hello!, egoing\")\n",
    "#elif real_k8805 == input:\n",
    "#  print(\"Hello!, k8805\")\n",
    "else:\n",
    "  print(\"Who are you?\")"
   ]
  },
  {
   "cell_type": "code",
   "execution_count": null,
   "metadata": {
    "collapsed": true
   },
   "outputs": [],
   "source": []
  }
 ],
 "metadata": {
  "kernelspec": {
   "display_name": "Python 3",
   "language": "python",
   "name": "python3"
  },
  "language_info": {
   "codemirror_mode": {
    "name": "ipython",
    "version": 3
   },
   "file_extension": ".py",
   "mimetype": "text/x-python",
   "name": "python",
   "nbconvert_exporter": "python",
   "pygments_lexer": "ipython3",
   "version": "3.6.3"
  }
 },
 "nbformat": 4,
 "nbformat_minor": 2
}
