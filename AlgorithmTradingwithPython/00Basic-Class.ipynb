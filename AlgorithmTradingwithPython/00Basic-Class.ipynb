{
 "cells": [
  {
   "cell_type": "markdown",
   "metadata": {},
   "source": [
    "## Variable"
   ]
  },
  {
   "cell_type": "code",
   "execution_count": 1,
   "metadata": {},
   "outputs": [],
   "source": [
    "name = \"LEEJAESEO\"\n",
    "email = \"jsstatcom@gmail.com\"\n",
    "addr = \"YongIn\""
   ]
  },
  {
   "cell_type": "code",
   "execution_count": 2,
   "metadata": {},
   "outputs": [],
   "source": [
    "def print_business_card(name, email, addr):\n",
    "        print(\"-------------------------\")\n",
    "        print(\"Name: %s\" % name)\n",
    "        print(\"E-mail: %s\" % email)\n",
    "        print(\"Office Address: %s\" % addr)\n",
    "        print(\"-------------------------\")"
   ]
  },
  {
   "cell_type": "code",
   "execution_count": 3,
   "metadata": {},
   "outputs": [
    {
     "name": "stdout",
     "output_type": "stream",
     "text": [
      "-------------------------\n",
      "Name: LEEJAESEO\n",
      "E-mail: jsstatcom@gmail.com\n",
      "Office Address: YongIn\n",
      "-------------------------\n"
     ]
    }
   ],
   "source": [
    "print_business_card(name, email, addr)"
   ]
  },
  {
   "cell_type": "code",
   "execution_count": 5,
   "metadata": {},
   "outputs": [
    {
     "name": "stdout",
     "output_type": "stream",
     "text": [
      "-------------------------\n",
      "Name: JINWOOJUNG\n",
      "E-mail: hellowj@gmail.com\n",
      "Office Address: Seoul\n",
      "-------------------------\n"
     ]
    }
   ],
   "source": [
    "name2 = \"JINWOOJUNG\"\n",
    "email2 = \"hellowj@gmail.com\"\n",
    "addr2 = \"Seoul\"\n",
    "print_business_card(name2, email2, addr2)"
   ]
  },
  {
   "cell_type": "markdown",
   "metadata": {},
   "source": [
    "회원수가 많아졌을 때 회원을 더 간편하게 관리하는 방법은 없을까?\n",
    "\n",
    "-> 클래스!"
   ]
  },
  {
   "cell_type": "markdown",
   "metadata": {},
   "source": [
    "## Class"
   ]
  },
  {
   "cell_type": "code",
   "execution_count": 23,
   "metadata": {},
   "outputs": [],
   "source": [
    "class BusinessCard:\n",
    "    def __init__(self, name, email, addr):\n",
    "        self.name = name\n",
    "        self.email = email\n",
    "        self.addr = addr\n",
    "        print(\"%s member joined our company\" % self.name)\n",
    "    \n",
    "    def set_info(self, name, email, addr):\n",
    "        self.name = name\n",
    "        self.email = email\n",
    "        self.addr = addr\n",
    "    \n",
    "    def get_info(self):\n",
    "        print(\"-------------------------\")\n",
    "        print(\"Name: %s\" % self.name)\n",
    "        print(\"E-mail: %s\" % self.email)\n",
    "        print(\"Office Address: %s\" % self.addr)\n",
    "        print(\"-------------------------\")"
   ]
  },
  {
   "cell_type": "code",
   "execution_count": 24,
   "metadata": {},
   "outputs": [
    {
     "name": "stdout",
     "output_type": "stream",
     "text": [
      "anonymous member joined our company\n",
      "-------------------------\n",
      "Name: LEEJAESEO\n",
      "E-mail: jsstatcom@gmail.com\n",
      "Office Address: YongIn\n",
      "-------------------------\n"
     ]
    }
   ],
   "source": [
    "member1 = BusinessCard(\"anonymous\", \"?\", \"?\")\n",
    "member1.set_info(\"LEEJAESEO\", \"jsstatcom@gmail.com\", \"YongIn\")\n",
    "member1.get_info()"
   ]
  },
  {
   "cell_type": "code",
   "execution_count": 25,
   "metadata": {},
   "outputs": [
    {
     "name": "stdout",
     "output_type": "stream",
     "text": [
      "JINWOOJUNG member joined our company\n",
      "-------------------------\n",
      "Name: JINWOOJUNG\n",
      "E-mail: hellowj@gmail.com\n",
      "Office Address: Seoul\n",
      "-------------------------\n"
     ]
    }
   ],
   "source": [
    "member2 = BusinessCard(\"JINWOOJUNG\", \"hellowj@gmail.com\", \"Seoul\")\n",
    "\n",
    "member2.get_info()"
   ]
  },
  {
   "cell_type": "markdown",
   "metadata": {},
   "source": [
    "## namespace"
   ]
  },
  {
   "cell_type": "code",
   "execution_count": 26,
   "metadata": {},
   "outputs": [
    {
     "data": {
      "text/plain": [
       "['BusinessCard',\n",
       " 'In',\n",
       " 'Out',\n",
       " '_',\n",
       " '_9',\n",
       " '__',\n",
       " '___',\n",
       " '__builtin__',\n",
       " '__builtins__',\n",
       " '__doc__',\n",
       " '__loader__',\n",
       " '__name__',\n",
       " '__package__',\n",
       " '__spec__',\n",
       " '_dh',\n",
       " '_i',\n",
       " '_i1',\n",
       " '_i10',\n",
       " '_i11',\n",
       " '_i12',\n",
       " '_i13',\n",
       " '_i14',\n",
       " '_i15',\n",
       " '_i16',\n",
       " '_i17',\n",
       " '_i18',\n",
       " '_i19',\n",
       " '_i2',\n",
       " '_i20',\n",
       " '_i21',\n",
       " '_i22',\n",
       " '_i23',\n",
       " '_i24',\n",
       " '_i25',\n",
       " '_i26',\n",
       " '_i3',\n",
       " '_i4',\n",
       " '_i5',\n",
       " '_i6',\n",
       " '_i7',\n",
       " '_i8',\n",
       " '_i9',\n",
       " '_ih',\n",
       " '_ii',\n",
       " '_iii',\n",
       " '_oh',\n",
       " 'addr',\n",
       " 'addr2',\n",
       " 'email',\n",
       " 'email2',\n",
       " 'exit',\n",
       " 'get_ipython',\n",
       " 'member1',\n",
       " 'member2',\n",
       " 'name',\n",
       " 'name2',\n",
       " 'print_business_card',\n",
       " 'quit']"
      ]
     },
     "execution_count": 26,
     "metadata": {},
     "output_type": "execute_result"
    }
   ],
   "source": [
    "dir()"
   ]
  },
  {
   "cell_type": "code",
   "execution_count": 28,
   "metadata": {},
   "outputs": [
    {
     "data": {
      "text/plain": [
       "{'name': 'LEEJAESEO', 'email': 'jsstatcom@gmail.com', 'addr': 'YongIn'}"
      ]
     },
     "execution_count": 28,
     "metadata": {},
     "output_type": "execute_result"
    }
   ],
   "source": [
    "member1.__dict__"
   ]
  },
  {
   "cell_type": "markdown",
   "metadata": {},
   "source": [
    "## Class Variable vs Instance Variable"
   ]
  },
  {
   "cell_type": "code",
   "execution_count": 33,
   "metadata": {},
   "outputs": [
    {
     "name": "stdout",
     "output_type": "stream",
     "text": [
      "First\n",
      "Class Variable 10\n",
      "Instance Varialbe 1 10\n",
      "Instance Varialbe 2 10\n",
      "\n",
      "Edit Value\n",
      "Class Variable 20\n",
      "Instance Varialbe 1 30\n",
      "Instance Varialbe 2 20\n"
     ]
    }
   ],
   "source": [
    "class for_comparing_class:\n",
    "    just_variable = 10\n",
    "\n",
    "instance1 = for_comparing_class()\n",
    "instance2 = for_comparing_class()\n",
    "\n",
    "print(\"First\")\n",
    "print(\"Class Variable %d\" % for_comparing_class.just_variable)\n",
    "print(\"Instance Varialbe 1 %d\" % instance1.just_variable)\n",
    "print(\"Instance Varialbe 2 %d\\n\" % instance2.just_variable)\n",
    "\n",
    "instance1.just_variable = 30\n",
    "for_comparing_class.just_variable = 20\n",
    "\n",
    "print(\"Edit Value\")\n",
    "print(\"Class Variable %d\" % for_comparing_class.just_variable)\n",
    "print(\"Instance Varialbe 1 %d\" % instance1.just_variable)\n",
    "print(\"Instance Varialbe 2 %d\" % instance2.just_variable)"
   ]
  },
  {
   "cell_type": "markdown",
   "metadata": {},
   "source": [
    "## Inheritance"
   ]
  },
  {
   "cell_type": "code",
   "execution_count": 35,
   "metadata": {},
   "outputs": [
    {
     "name": "stdout",
     "output_type": "stream",
     "text": [
      "This class is Parent Class\n",
      "KimGabSoo\n",
      "This class is Child Class\n",
      "KimGabSoo\n",
      "KimSunhwa\n"
     ]
    }
   ],
   "source": [
    "class Parent:\n",
    "    def __init__(self):\n",
    "        print(\"This class is Parent Class\")\n",
    "    name = \"KimGabSoo\"\n",
    "\n",
    "class Child(Parent):\n",
    "    def __init__(self):\n",
    "        print(\"This class is Child Class\")\n",
    "    \n",
    "p = Parent()\n",
    "print(p.name)\n",
    "c = Child()\n",
    "print(c.name)\n",
    "c.name = \"KimSunhwa\"\n",
    "print(c.name)"
   ]
  },
  {
   "cell_type": "code",
   "execution_count": null,
   "metadata": {},
   "outputs": [],
   "source": []
  }
 ],
 "metadata": {
  "kernelspec": {
   "display_name": "Python 3",
   "language": "python",
   "name": "python3"
  },
  "language_info": {
   "codemirror_mode": {
    "name": "ipython",
    "version": 3
   },
   "file_extension": ".py",
   "mimetype": "text/x-python",
   "name": "python",
   "nbconvert_exporter": "python",
   "pygments_lexer": "ipython3",
   "version": "3.6.5"
  }
 },
 "nbformat": 4,
 "nbformat_minor": 2
}
